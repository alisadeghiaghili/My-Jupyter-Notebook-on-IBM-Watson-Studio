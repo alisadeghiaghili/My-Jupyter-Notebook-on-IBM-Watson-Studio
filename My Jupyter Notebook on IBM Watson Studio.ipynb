{
 "cells": [
  {
   "cell_type": "markdown",
   "metadata": {},
   "source": [
    "<center>\n",
    "    <img src=\"https://cf-courses-data.s3.us.cloud-object-storage.appdomain.cloud/IBMDeveloperSkillsNetwork-DS0105EN-SkillsNetwork/labs/Module2/images/SN_web_lightmode.png\" width=\"300\" alt=\"cognitiveclass.ai logo\">\n",
    "</center>\n"
   ]
  },
  {
   "cell_type": "markdown",
   "metadata": {},
   "source": [
    "# My Jupyter Notebook on IBM Watson Studio"
   ]
  },
  {
   "cell_type": "markdown",
   "metadata": {},
   "source": [
    "**Ali Sadeghi Aghili**\n",
    "\n",
    "Data Unicorn"
   ]
  },
  {
   "cell_type": "markdown",
   "metadata": {},
   "source": [
    "*An industry 4.0 lover data unicorn with about a decade of experience in various fields of data in different industries. Passionate learner and team worker. Seasoned in data handling and automation in variety of data pipelines, increasing data quality and visualization. Comfortable with both R and Python and various BI tools. Interested in figuring new aspects of data.*"
   ]
  },
  {
   "cell_type": "markdown",
   "metadata": {},
   "source": [
    "### Print the data scientist"
   ]
  },
  {
   "cell_type": "code",
   "execution_count": 3,
   "metadata": {},
   "outputs": [
    {
     "name": "stdout",
     "output_type": "stream",
     "text": [
      "TheDataScientist\n"
     ]
    }
   ],
   "source": [
    "print(\"TheDataScientist\")"
   ]
  },
  {
   "cell_type": "markdown",
   "metadata": {},
   "source": [
    "here is an unordered list:\n",
    "- list item 1\n",
    "- list item 2\n",
    "- list item 3\n",
    "\n",
    "here is an ordered list:\n",
    "1. list item 1\n",
    "2. list item 2\n",
    "3. list item 3\n",
    "\n",
    "here is a table:\n",
    "\n",
    "| title | author |\n",
    "|--------|-----------------------------------------------------|\n",
    "| my jupyter notebook on IBM Watson Studio | Ali Sadeghi Aghili |\n",
    "--------------------------------------------------------------"
   ]
  }
 ],
 "metadata": {
  "kernelspec": {
   "display_name": "Python 3 (ipykernel)",
   "language": "python",
   "name": "python3"
  },
  "language_info": {
   "codemirror_mode": {
    "name": "ipython",
    "version": 3
   },
   "file_extension": ".py",
   "mimetype": "text/x-python",
   "name": "python",
   "nbconvert_exporter": "python",
   "pygments_lexer": "ipython3",
   "version": "3.9.13"
  }
 },
 "nbformat": 4,
 "nbformat_minor": 4
}
